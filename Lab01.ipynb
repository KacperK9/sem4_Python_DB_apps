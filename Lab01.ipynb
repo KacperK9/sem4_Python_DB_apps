{
 "cells": [
  {
   "cell_type": "markdown",
   "metadata": {},
   "source": [
    "# Zadanie1"
   ]
  },
  {
   "cell_type": "markdown",
   "metadata": {},
   "source": [
    "dwóm zmiennym zostaną przypisane w sposób dowolny wartości całkowite"
   ]
  },
  {
   "cell_type": "code",
   "execution_count": 1,
   "metadata": {},
   "outputs": [],
   "source": [
    "a=5\n",
    "b=-17"
   ]
  },
  {
   "cell_type": "markdown",
   "metadata": {},
   "source": [
    "zostanie obliczona i wyświetlona suma w/w liczb,"
   ]
  },
  {
   "cell_type": "code",
   "execution_count": 2,
   "metadata": {},
   "outputs": [
    {
     "name": "stdout",
     "output_type": "stream",
     "text": [
      "-12\n"
     ]
    }
   ],
   "source": [
    "sum=a+b\n",
    "print(sum)"
   ]
  },
  {
   "cell_type": "markdown",
   "metadata": {},
   "source": [
    "zostanie wyświetlonainformacjaczyw/w suma jest dodatnia, ujemna lub równa zeru,"
   ]
  },
  {
   "cell_type": "code",
   "execution_count": 3,
   "metadata": {},
   "outputs": [
    {
     "name": "stdout",
     "output_type": "stream",
     "text": [
      "ujemna\n"
     ]
    }
   ],
   "source": [
    "if(sum>0):\n",
    "    print('dodatnia');\n",
    "elif(sum<0):\n",
    "    print('ujemna');\n",
    "else:\n",
    "    print('zero');"
   ]
  },
  {
   "cell_type": "markdown",
   "metadata": {},
   "source": [
    "# Zadanie2"
   ]
  },
  {
   "cell_type": "markdown",
   "metadata": {},
   "source": [
    "zostanie wyświetlona informacja czy w/w suma jest parzysta lub nieparzysta."
   ]
  },
  {
   "cell_type": "code",
   "execution_count": 4,
   "metadata": {},
   "outputs": [
    {
     "name": "stdout",
     "output_type": "stream",
     "text": [
      "parzysta\n"
     ]
    }
   ],
   "source": [
    "if(sum%2==0):\n",
    "    print('parzysta');\n",
    "else:\n",
    "    print('nieparzysta');"
   ]
  },
  {
   "cell_type": "markdown",
   "metadata": {},
   "source": [
    "# Zadanie3"
   ]
  },
  {
   "cell_type": "markdown",
   "metadata": {},
   "source": [
    "rzem zmiennym (t.j. parametrom równania kwadratowego →ax2+  bx+  c  =  0) \n",
    "zostaną przypisane w sposób dowolny wartości całkowite,\n",
    "•zostaną obliczone i wyświetlone pierwiastki równania kwadratowego, o ile istnieją"
   ]
  },
  {
   "cell_type": "code",
   "execution_count": 15,
   "metadata": {},
   "outputs": [
    {
     "name": "stdout",
     "output_type": "stream",
     "text": [
      "a:5\n",
      "b:12\n",
      "c:3\n",
      "delta:  84\n",
      "x1= -2.1165151389911676 x2= -0.283484861008832\n"
     ]
    }
   ],
   "source": [
    "a = int(input('a:'))\n",
    "b = int(input('b:'))\n",
    "c = int(input('c:'))\n",
    "delta=b*b-4*a*c\n",
    "print('delta: ', delta)\n",
    "if(delta<0):\n",
    "    print('brak pierwiastkow');\n",
    "elif(delta==0):\n",
    "    x1=-b/(2*a)\n",
    "    print('jedno miejsce zerowe x=', x1)\n",
    "elif(delta>0):\n",
    "    x1=(-b-pow(delta, 1/2))/(2*a)\n",
    "    x2=(-b+pow(delta, 1/2))/(2*a)\n",
    "    print('x1=', x1, 'x2=', x2)"
   ]
  },
  {
   "cell_type": "markdown",
   "metadata": {},
   "source": [
    "# Zadanie4"
   ]
  },
  {
   "cell_type": "code",
   "execution_count": 39,
   "metadata": {},
   "outputs": [
    {
     "name": "stdout",
     "output_type": "stream",
     "text": [
      "a:12\n",
      "b:12\n",
      "suma= 24\n"
     ]
    }
   ],
   "source": [
    "a=int(input('a:'))\n",
    "b=int(input('b:'))\n",
    "if isinstance(a, int) and isinstance(b, int):\n",
    "    if (a>0 and b>0):\n",
    "        if(a%2==0 and b%2==0):\n",
    "            if(10<a<100 and 10<b<100):\n",
    "                print('suma =', a+b)\n",
    "            else:\n",
    "                print('wartosci nie nazela do przedziału')\n",
    "        else:\n",
    "            print('jedna z wartosci nieparzysta')\n",
    "    else:\n",
    "        print('wartosci<0')\n",
    "else:\n",
    "    print('not int')\n",
    "        "
   ]
  },
  {
   "cell_type": "markdown",
   "metadata": {},
   "source": [
    "# Zadanie5"
   ]
  },
  {
   "cell_type": "markdown",
   "metadata": {},
   "source": [
    "11W utworzonym notebooku wprowadź tytuł „Zadanie 5”,\n",
    "a następnie napisz i przetestuj kod źródłowy w języku Python, dzięki któremu:"
   ]
  },
  {
   "cell_type": "markdown",
   "metadata": {},
   "source": [
    "zmiennej związanej z wiekiem zostanie przypisana pewna wartość,\n",
    "•jeżeli wprowadzona w/w wartość będzie zawierała się w przedziale <1,100>, wówczas:"
   ]
  },
  {
   "cell_type": "markdown",
   "metadata": {},
   "source": [
    "gdy wiek będzie się zawierał w przedziale <1;18), zostanie zwrócony komunikat „dziecko”,\n",
    "\n",
    "gdy wiek będzie się zawierał w przedziale <18;50), zostanie zwrócony komunikat „osoba dorosła”,\n",
    "\n",
    "gdy wiek będzie się zawierał w przedziale <50;100>, zostanie zwrócony komunikat „osoba starsza”."
   ]
  },
  {
   "cell_type": "code",
   "execution_count": null,
   "metadata": {},
   "outputs": [],
   "source": [
    "age=int(input('a:'));\n",
    "if(1<=age<=100):\n",
    "    if(1<=age<18):\n",
    "        print('dziecko');\n",
    "    elif(18<=age<50):\n",
    "        print('osoba dorosla');\n",
    "    elif(50<=age<=100):\n",
    "        print('osoba starsza');"
   ]
  }
 ],
 "metadata": {
  "kernelspec": {
   "display_name": "Python 3",
   "language": "python",
   "name": "python3"
  },
  "language_info": {
   "codemirror_mode": {
    "name": "ipython",
    "version": 3
   },
   "file_extension": ".py",
   "mimetype": "text/x-python",
   "name": "python",
   "nbconvert_exporter": "python",
   "pygments_lexer": "ipython3",
   "version": "3.8.5"
  }
 },
 "nbformat": 4,
 "nbformat_minor": 4
}

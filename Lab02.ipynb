{
 "cells": [
  {
   "cell_type": "markdown",
   "metadata": {},
   "source": [
    "# Lab2"
   ]
  },
  {
   "cell_type": "markdown",
   "metadata": {},
   "source": [
    "# Zadanie 6\n",
    "Wykorzystując poniższą tabelę zaprojektuj słownik, zawierający poniższe informacje, a następnie wyświetl jego zawartość (klucz : wartość)."
   ]
  },
  {
   "cell_type": "code",
   "execution_count": 11,
   "metadata": {},
   "outputs": [
    {
     "name": "stdout",
     "output_type": "stream",
     "text": [
      "0 :  Styczeń\n",
      "1 :  Luty\n",
      "2 :  Marzec\n",
      "3 :  Kwiecień\n",
      "4 :  Maj\n",
      "5 :  Czerwiec\n",
      "6 :  Lipiec\n",
      "7 :  Sierpień\n",
      "8 :  Wrzesień\n",
      "9 :  Październik\n"
     ]
    }
   ],
   "source": [
    "d=dict()\n",
    "d={ \n",
    "    0: 'Styczeń',\n",
    "    1: 'Luty',\n",
    "    2: 'Marzec',\n",
    "    3: 'Kwiecień',\n",
    "    4: 'Maj',\n",
    "    5: 'Czerwiec',\n",
    "    6: 'Lipiec',\n",
    "    7: 'Sierpień',\n",
    "    8: 'Wrzesień',\n",
    "    9: 'Październik',\n",
    "}\n"
   ]
  },
  {
   "cell_type": "markdown",
   "metadata": {},
   "source": [
    "-wyświetl nazwy wszystkich kluczy za pomocą odpowiedniej funkcji wbudowanej,\n",
    "\n",
    "-wyświetl nazwy wszystkich wartości za pomocą instrukcji powtarzania „for”,dodaj poniższe elementy do słownikaz poprzedniego zadania,"
   ]
  },
  {
   "cell_type": "code",
   "execution_count": 52,
   "metadata": {},
   "outputs": [
    {
     "name": "stdout",
     "output_type": "stream",
     "text": [
      "dict_keys([0, 2, 3, 5, 6, 7, 8, 9, 10]) \n",
      "\n",
      "0 :  Styczeń\n",
      "2 :  Marzec\n",
      "3 :  Kwiecień\n",
      "5 :  Czerwiec\n",
      "6 :  Lipiec\n",
      "7 :  Sierpień\n",
      "8 :  Wrzesień\n",
      "9 :  Październik\n",
      "10 :  Listopad\n"
     ]
    }
   ],
   "source": [
    "print(d.keys(),'\\n');\n",
    "\n",
    "for key in d:\n",
    "    print(key,\": \",d[key]);"
   ]
  },
  {
   "cell_type": "markdown",
   "metadata": {},
   "source": [
    "dodaj poniższe elementy do słownikaz poprzedniego zadania"
   ]
  },
  {
   "cell_type": "code",
   "execution_count": 19,
   "metadata": {},
   "outputs": [
    {
     "name": "stdout",
     "output_type": "stream",
     "text": [
      "Listopad Grudzień\n"
     ]
    }
   ],
   "source": [
    "d[10] = 'Listopad'\n",
    "d[11] = 'Grudzień'\n"
   ]
  },
  {
   "cell_type": "markdown",
   "metadata": {},
   "source": [
    "wyświetl słownik po zmianach (klucz : wartość),"
   ]
  },
  {
   "cell_type": "code",
   "execution_count": 20,
   "metadata": {},
   "outputs": [
    {
     "name": "stdout",
     "output_type": "stream",
     "text": [
      "0 :  Styczeń\n",
      "1 :  Luty\n",
      "2 :  Marzec\n",
      "3 :  Kwiecień\n",
      "4 :  Maj\n",
      "5 :  Czerwiec\n",
      "6 :  Lipiec\n",
      "7 :  Sierpień\n",
      "8 :  Wrzesień\n",
      "9 :  Październik\n",
      "10 :  Listopad\n",
      "11 :  Grudzień\n"
     ]
    }
   ],
   "source": [
    "for key in d:\n",
    "    print(key,\": \",d[key]);"
   ]
  },
  {
   "cell_type": "markdown",
   "metadata": {},
   "source": [
    "wyświetl ilość elementów znajdujących się w słowniku,"
   ]
  },
  {
   "cell_type": "code",
   "execution_count": 21,
   "metadata": {},
   "outputs": [
    {
     "name": "stdout",
     "output_type": "stream",
     "text": [
      "12\n"
     ]
    }
   ],
   "source": [
    "print(len(d))"
   ]
  },
  {
   "cell_type": "markdown",
   "metadata": {},
   "source": [
    "sprawdź czy „Listopad” jest elementem słownika →jeśli jest, wówczas wyświetl słowo „TAK”, w przeciwnym przypadku „NIE”"
   ]
  },
  {
   "cell_type": "code",
   "execution_count": 30,
   "metadata": {},
   "outputs": [
    {
     "name": "stdout",
     "output_type": "stream",
     "text": [
      "TAK\n"
     ]
    }
   ],
   "source": [
    "if ( 'Listopad' in d.values()):\n",
    "    print('TAK')\n",
    "else:\n",
    "    print('NIE')"
   ]
  },
  {
   "cell_type": "markdown",
   "metadata": {},
   "source": [
    "# Zadanie 8"
   ]
  },
  {
   "cell_type": "markdown",
   "metadata": {},
   "source": [
    "Na podstawie poprzedniego zadania:\n",
    "    \n",
    "-wykonaj kopię słownika i zapisz ją w postaci słownika o nazwie kopia"
   ]
  },
  {
   "cell_type": "code",
   "execution_count": 34,
   "metadata": {},
   "outputs": [
    {
     "name": "stdout",
     "output_type": "stream",
     "text": [
      "0 :  Styczeń\n",
      "1 :  Luty\n",
      "2 :  Marzec\n",
      "3 :  Kwiecień\n",
      "4 :  Maj\n",
      "5 :  Czerwiec\n",
      "6 :  Lipiec\n",
      "7 :  Sierpień\n",
      "8 :  Wrzesień\n",
      "9 :  Październik\n",
      "10 :  Listopad\n",
      "11 :  Grudzień\n"
     ]
    }
   ],
   "source": [
    "kopia=dict()\n",
    "kopia=d.copy()\n",
    "for key in kopia:\n",
    "    print(key,\": \",kopia[key]);"
   ]
  },
  {
   "cell_type": "markdown",
   "metadata": {},
   "source": [
    "usuń ze słownika takie miesiące jak: grudzień, maj i luty, a następnie wyświetl zawartość słownika po zmianach (klucz : wartość)"
   ]
  },
  {
   "cell_type": "code",
   "execution_count": 42,
   "metadata": {},
   "outputs": [
    {
     "name": "stdout",
     "output_type": "stream",
     "text": [
      "0 :  Styczeń\n",
      "2 :  Marzec\n",
      "3 :  Kwiecień\n",
      "5 :  Czerwiec\n",
      "6 :  Lipiec\n",
      "7 :  Sierpień\n",
      "8 :  Wrzesień\n",
      "9 :  Październik\n",
      "10 :  Listopad\n"
     ]
    }
   ],
   "source": [
    "for key in kopia:\n",
    "    if(kopia[key]=='Grudzień' or kopia[key]=='Maj' or kopia[key]=='Luty'):\n",
    "        if kopia[key] in d.values():\n",
    "            del d[key]\n",
    "\n",
    "for key in d:\n",
    "    print(key,\": \",d[key]);"
   ]
  },
  {
   "cell_type": "markdown",
   "metadata": {},
   "source": [
    "sprawdź czy takie miesiące jak: grudzień, maj i luty są elementami słownika →jeśli są, wówczas wyświetl słowo „TAK”, w przeciwnym przypadku „NIE”,"
   ]
  },
  {
   "cell_type": "code",
   "execution_count": 46,
   "metadata": {},
   "outputs": [
    {
     "name": "stdout",
     "output_type": "stream",
     "text": [
      "NIE\n"
     ]
    }
   ],
   "source": [
    "if 'Grudzień' in d.values() and 'Maj' in d.values() and 'Luty' in d.values():\n",
    "        print(\"TAK\")\n",
    "else:\n",
    "        print(\"NIE\")"
   ]
  },
  {
   "cell_type": "markdown",
   "metadata": {},
   "source": [
    "wyświetl ilość elementów znajdujących się w słowniku i w kopii."
   ]
  },
  {
   "cell_type": "code",
   "execution_count": 48,
   "metadata": {},
   "outputs": [
    {
     "name": "stdout",
     "output_type": "stream",
     "text": [
      "slownik:  9\n",
      "kopia:  12\n"
     ]
    }
   ],
   "source": [
    "print('slownik: ', len(d))\n",
    "print('kopia: ', len(kopia))"
   ]
  },
  {
   "cell_type": "markdown",
   "metadata": {},
   "source": [
    "# zadanie 9\n",
    "\n",
    "\n",
    "Spróbuj połączyć wszystkie czynności z zadania 6,7 i 8 w jeden notebook →wszystkie czynności muszą być realizowane w ramach jednej „komórki” ."
   ]
  },
  {
   "cell_type": "markdown",
   "metadata": {},
   "source": [
    "# Zadanie 10\n",
    "W ramach jednej „komórki” notebook’azrealizuj poniższe czynności:\n",
    "wykorzystując poniższą tabelę zaprojektuj ramkę, zawierającą poniższe informacje, a następnie wyświetl jej zawartość"
   ]
  },
  {
   "cell_type": "code",
   "execution_count": 128,
   "metadata": {},
   "outputs": [
    {
     "data": {
      "text/html": [
       "<div>\n",
       "<style scoped>\n",
       "    .dataframe tbody tr th:only-of-type {\n",
       "        vertical-align: middle;\n",
       "    }\n",
       "\n",
       "    .dataframe tbody tr th {\n",
       "        vertical-align: top;\n",
       "    }\n",
       "\n",
       "    .dataframe thead th {\n",
       "        text-align: right;\n",
       "    }\n",
       "</style>\n",
       "<table border=\"1\" class=\"dataframe\">\n",
       "  <thead>\n",
       "    <tr style=\"text-align: right;\">\n",
       "      <th></th>\n",
       "      <th>POL</th>\n",
       "      <th>ENG</th>\n",
       "    </tr>\n",
       "  </thead>\n",
       "  <tbody>\n",
       "    <tr>\n",
       "      <th>5</th>\n",
       "      <td>Czerwiec</td>\n",
       "      <td>June</td>\n",
       "    </tr>\n",
       "    <tr>\n",
       "      <th>11</th>\n",
       "      <td>Grudzień</td>\n",
       "      <td>December</td>\n",
       "    </tr>\n",
       "    <tr>\n",
       "      <th>3</th>\n",
       "      <td>Kwiecień</td>\n",
       "      <td>April</td>\n",
       "    </tr>\n",
       "    <tr>\n",
       "      <th>6</th>\n",
       "      <td>Lipiec</td>\n",
       "      <td>July</td>\n",
       "    </tr>\n",
       "    <tr>\n",
       "      <th>10</th>\n",
       "      <td>Listopad</td>\n",
       "      <td>November</td>\n",
       "    </tr>\n",
       "    <tr>\n",
       "      <th>1</th>\n",
       "      <td>Luty</td>\n",
       "      <td>February</td>\n",
       "    </tr>\n",
       "    <tr>\n",
       "      <th>4</th>\n",
       "      <td>Maj</td>\n",
       "      <td>May</td>\n",
       "    </tr>\n",
       "    <tr>\n",
       "      <th>2</th>\n",
       "      <td>Marzec</td>\n",
       "      <td>March</td>\n",
       "    </tr>\n",
       "    <tr>\n",
       "      <th>9</th>\n",
       "      <td>Październik</td>\n",
       "      <td>October</td>\n",
       "    </tr>\n",
       "    <tr>\n",
       "      <th>7</th>\n",
       "      <td>Sierpień</td>\n",
       "      <td>August</td>\n",
       "    </tr>\n",
       "    <tr>\n",
       "      <th>0</th>\n",
       "      <td>Styczeń</td>\n",
       "      <td>January</td>\n",
       "    </tr>\n",
       "    <tr>\n",
       "      <th>8</th>\n",
       "      <td>Wrzesień</td>\n",
       "      <td>September</td>\n",
       "    </tr>\n",
       "  </tbody>\n",
       "</table>\n",
       "</div>"
      ],
      "text/plain": [
       "            POL        ENG\n",
       "5      Czerwiec       June\n",
       "11     Grudzień   December\n",
       "3      Kwiecień      April\n",
       "6        Lipiec       July\n",
       "10     Listopad   November\n",
       "1          Luty   February\n",
       "4           Maj        May\n",
       "2        Marzec      March\n",
       "9   Październik    October\n",
       "7      Sierpień     August\n",
       "0       Styczeń    January\n",
       "8      Wrzesień  September"
      ]
     },
     "execution_count": 128,
     "metadata": {},
     "output_type": "execute_result"
    }
   ],
   "source": [
    "import pandas\n",
    "df=pandas.DataFrame()\n",
    "s1=pandas.Series(['Styczeń',\n",
    "'Luty',\n",
    "'Marzec',\n",
    "'Kwiecień',\n",
    "'Maj',\n",
    "'Czerwiec',\n",
    "'Lipiec',\n",
    "'Sierpień',\n",
    "'Wrzesień',\n",
    "'Październik',\n",
    "])\n",
    "\n",
    "\n",
    "s2=pandas.Series([\n",
    "    'January',\n",
    "    'February',\n",
    "    'March',\n",
    "    'April',\n",
    "    'May',\n",
    "    'June',\n",
    "    'July',\n",
    "    'August',\n",
    "    'September',\n",
    "    'October',\n",
    "])\n",
    "\n",
    "df=pandas.DataFrame({0:s1, 1: s2})\n",
    "\n",
    "df_app=pandas.DataFrame({0:['Listopad', 'Grudzień'], 1:['November', 'December']})\n",
    "df=df.append(df_app, ignore_index=True)\n",
    "#posortuj zawartość ramki względem nazwy miesiąca (a→z)i wyświetl wynik,\n",
    "df=df.sort_values(by=[0,1])\n",
    "#zmień nazwy kolumn: 0 →PL, 1 →ENG i wyświetl wynik.\n",
    "df=df.rename(columns={0:\"POL\", 1:\"ENG\"})\n",
    "df"
   ]
  },
  {
   "cell_type": "code",
   "execution_count": null,
   "metadata": {},
   "outputs": [],
   "source": []
  }
 ],
 "metadata": {
  "kernelspec": {
   "display_name": "Python 3",
   "language": "python",
   "name": "python3"
  },
  "language_info": {
   "codemirror_mode": {
    "name": "ipython",
    "version": 3
   },
   "file_extension": ".py",
   "mimetype": "text/x-python",
   "name": "python",
   "nbconvert_exporter": "python",
   "pygments_lexer": "ipython3",
   "version": "3.8.5"
  }
 },
 "nbformat": 4,
 "nbformat_minor": 4
}

{
 "cells": [
  {
   "cell_type": "markdown",
   "metadata": {},
   "source": [
    "Utwórz nowy notebook. Napisz skrypt z wykorzystaniem funkcji (m, n –parametry funkcji),\n",
    "który wygeneruje tablicę dwuwymiarową (m ×n, m ≠ n) wypełnioną cyfrą 1"
   ]
  },
  {
   "cell_type": "markdown",
   "metadata": {},
   "source": [
    "sprawdzi, czy m ≠ n, jeżeli tak, to\n",
    "\n",
    "obliczy i wyświetli sumę w wierszu m,\n",
    "\n",
    "obliczy i wyświetli sumę w kolumnie n"
   ]
  },
  {
   "cell_type": "code",
   "execution_count": 6,
   "metadata": {},
   "outputs": [],
   "source": [
    "import numpy as np "
   ]
  },
  {
   "cell_type": "code",
   "execution_count": 20,
   "metadata": {},
   "outputs": [
    {
     "name": "stdout",
     "output_type": "stream",
     "text": [
      "suma w wierszu 6  wynosi:  2.0\n",
      "suma w kolumnie 3  wynosi:  5.0\n"
     ]
    }
   ],
   "source": [
    "def create_matrix(m, n):\n",
    "    arr=np.ones((m,n));\n",
    "    if m!=n:\n",
    "        row_sum=0\n",
    "        column_sum=0;\n",
    "        for i in range(0, n):\n",
    "            row_sum+=arr[m-1][i]\n",
    "        for j in range(0, m):\n",
    "            column_sum+=arr[j][n-1]\n",
    "    print(\"suma w wierszu\",(m+1),\" wynosi: \",row_sum)\n",
    "    print(\"suma w kolumnie\",(n+1),\" wynosi: \",column_sum)\n",
    "    \n",
    "create_matrix(5, 2)\n",
    "    "
   ]
  },
  {
   "cell_type": "markdown",
   "metadata": {},
   "source": [
    "Utwórz nowy notebook lub pracuj z poprzednim.\n",
    "Napisz skrypt z wykorzystaniem funkcji (n –parametr funkcji), który obliczy silnię dowolnej liczby naturalnej (n!) i wyświetli wynik.\n",
    "Proszę pamiętać o sprawdzeniu, czy liczba jest naturalna."
   ]
  },
  {
   "cell_type": "code",
   "execution_count": 43,
   "metadata": {},
   "outputs": [
    {
     "name": "stdout",
     "output_type": "stream",
     "text": [
      "0!= 1\n",
      "5!= 120\n",
      "incorrect input\n",
      "-1\n"
     ]
    }
   ],
   "source": [
    "def factorial(n):\n",
    "    if(not isinstance(n, int) or n<0):\n",
    "        print(\"incorrect input\")\n",
    "        return -1\n",
    "    else:\n",
    "        result=1\n",
    "        for i in range(1,n+1):\n",
    "            result*=i\n",
    "    return result\n",
    "          \n",
    "print(\"0!=\", factorial(0))\n",
    "print(\"5!=\", factorial(5))\n",
    "print(factorial(-1))\n"
   ]
  },
  {
   "cell_type": "markdown",
   "metadata": {},
   "source": [
    "Utwórz nowy notebook lub pracuj z poprzednim. Napisz skrypt z wykorzystaniem funkcji (n –parametr funkcji), który obliczy i wyświetli sumę wszystkich elementów, wartość minimalną i jej nr indeksu, wartość maksymalną i jej nr indeksu oraz średnią arytmetyczną elementów tablicy jednowymiarowej o liczbie elementów równej „n”. Elementy tablicy proszę wygenerować w sposób losowy"
   ]
  },
  {
   "cell_type": "code",
   "execution_count": 56,
   "metadata": {},
   "outputs": [
    {
     "name": "stdout",
     "output_type": "stream",
     "text": [
      "45\n",
      "3\n",
      "21\n",
      "77\n",
      "28\n",
      "sum: 174\n",
      "min: 3\n",
      "min index:  1\n",
      "max index:  3\n",
      "mean:  34.8\n"
     ]
    }
   ],
   "source": [
    "def fun(n):\n",
    "    arr=np.random.randint(0,100,n)\n",
    "    for i in arr: \n",
    "        print(i)\n",
    "    print(\"sum:\", arr.sum())\n",
    "    print(\"min:\", arr.min())\n",
    "    print(\"min index: \", np.argmin(arr))\n",
    "    print(\"max index: \", np.argmax(arr))\n",
    "    print(\"mean: \", arr.mean())\n",
    "fun(5)"
   ]
  },
  {
   "cell_type": "markdown",
   "metadata": {},
   "source": [
    "Utwórz nowy notebook lub pracuj z poprzednim. Napisz skrypt z wykorzystaniem funkcji (m, n –parametry funkcji), który obliczy i wyświetli sumę wszystkich elementów, wartość minimalną i jej położenie w tablicy, wartość maksymalną i jej położenie w tablicy oraz średnią arytmetyczną elementów tablicy dwuwymiarowej o wymiarze m ×n . Elementy tablicy proszę wygenerować w sposób losowy.\n"
   ]
  },
  {
   "cell_type": "code",
   "execution_count": 147,
   "metadata": {},
   "outputs": [
    {
     "name": "stdout",
     "output_type": "stream",
     "text": [
      "sum: 819\n",
      "min: 14\n",
      "min index:  (2, 0)\n",
      "max index:  (2, 2)\n",
      "mean:  54.6\n"
     ]
    }
   ],
   "source": [
    "def fun(m, n):\n",
    "    arr=np.random.randint(0,100, (m, n))\n",
    "    print(\"sum:\", arr.sum())\n",
    "    print(\"min:\", arr.min())\n",
    "    print(\"min index: \", divmod(arr.argmin(), arr.shape[1]))\n",
    "    print(\"max index: \", divmod(arr.argmax(), arr.shape[1]))\n",
    "    print(\"mean: \", arr.mean())\n",
    "\n",
    "fun(3,5)"
   ]
  },
  {
   "cell_type": "code",
   "execution_count": 174,
   "metadata": {},
   "outputs": [
    {
     "name": "stdout",
     "output_type": "stream",
     "text": [
      "[['|' '0' '#' '0' '#' '0' '#' '|']\n",
      " ['|' '0' '#' '0' '#' '0' '#' '|']\n",
      " ['|' '0' '#' '0' '#' '0' '#' '|']\n",
      " ['|' '0' '#' '0' '#' '0' '#' '|']\n",
      " ['|' '0' '#' '0' '#' '0' '#' '|']\n",
      " ['|' '0' '#' '0' '#' '0' '#' '|']\n",
      " ['|' '0' '#' '0' '#' '0' '#' '|']\n",
      " ['|' '0' '#' '0' '#' '0' '#' '|']]\n"
     ]
    }
   ],
   "source": [
    "def init_chessboard():\n",
    "    rows, cols=(8,8)\n",
    "    arr=[[0]*cols]*rows\n",
    "    for i in range(1, (rows-1) ):\n",
    "        if i%2==0:\n",
    "            for j in range(0, rows):\n",
    "                    arr[j][i]=\"#\"\n",
    "            \n",
    "        \n",
    "    for i in range(0, cols):\n",
    "        if i == 0 or i == (cols-1): \n",
    "            for j in range(0, rows):\n",
    "                arr[j][i]=\"|\"\n",
    "            \n",
    "    print(np.matrix(arr))\n",
    "    \n",
    "init_chessboard()"
   ]
  },
  {
   "cell_type": "code",
   "execution_count": null,
   "metadata": {},
   "outputs": [],
   "source": []
  },
  {
   "cell_type": "code",
   "execution_count": null,
   "metadata": {},
   "outputs": [],
   "source": []
  }
 ],
 "metadata": {
  "kernelspec": {
   "display_name": "Python 3",
   "language": "python",
   "name": "python3"
  },
  "language_info": {
   "codemirror_mode": {
    "name": "ipython",
    "version": 3
   },
   "file_extension": ".py",
   "mimetype": "text/x-python",
   "name": "python",
   "nbconvert_exporter": "python",
   "pygments_lexer": "ipython3",
   "version": "3.8.5"
  }
 },
 "nbformat": 4,
 "nbformat_minor": 4
}
